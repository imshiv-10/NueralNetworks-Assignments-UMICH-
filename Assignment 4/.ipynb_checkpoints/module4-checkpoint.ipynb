{
 "cells": [
  {
   "cell_type": "markdown",
   "id": "2f59f8ce",
   "metadata": {},
   "source": [
    "# Assignment 4\n",
    "\n",
    "> Siva Prasad Nidamanuri"
   ]
  },
  {
   "cell_type": "markdown",
   "id": "ddb50170",
   "metadata": {},
   "source": [
    "**Multi Layer Perceptron**\n",
    "- MLP is essentially a combination of layers of perceptrons weaved together. It uses the outputs of the first layer as inputs of the next layer until finally after a particular number of layers, it reaches the output layer."
   ]
  },
  {
   "cell_type": "markdown",
   "id": "8a0aae42",
   "metadata": {},
   "source": [
    "**Step Function**\n",
    "\n",
    "- A step function is a function like that used by the original Perceptron.\n",
    "\n",
    "- The values used by the Perceptron were node1 = 10 and node2 = -10."
   ]
  },
  {
   "cell_type": "code",
   "execution_count": 13,
   "id": "7d8bf17c",
   "metadata": {},
   "outputs": [],
   "source": [
    "def step_function(_node):\n",
    "    if _node>0: \n",
    "        return 1 \n",
    "    else:\n",
    "        return 0"
   ]
  },
  {
   "cell_type": "markdown",
   "id": "48c3eda4",
   "metadata": {},
   "source": [
    "#### Implementation"
   ]
  },
  {
   "cell_type": "code",
   "execution_count": 24,
   "id": "569136ef",
   "metadata": {},
   "outputs": [
    {
     "name": "stdout",
     "output_type": "stream",
     "text": [
      "1\n",
      "0\n"
     ]
    }
   ],
   "source": [
    "_node1 = 10\n",
    "print(step_function(_node1))\n",
    "\n",
    "_node2 = -10\n",
    "print(step_function(_node2))"
   ]
  },
  {
   "cell_type": "code",
   "execution_count": 19,
   "id": "999a1e67",
   "metadata": {},
   "outputs": [],
   "source": [
    "def step_function(_node):\n",
    "    return 1 if _node>0 else 0"
   ]
  },
  {
   "cell_type": "code",
   "execution_count": 22,
   "id": "e2bcb406",
   "metadata": {},
   "outputs": [
    {
     "name": "stdout",
     "output_type": "stream",
     "text": [
      "0\n",
      "1\n"
     ]
    }
   ],
   "source": [
    "_node3 = -5\n",
    "print(step_function(_node3))\n",
    "_node4 = 5\n",
    "print(step_function(_node4))"
   ]
  },
  {
   "cell_type": "markdown",
   "id": "e4cce467",
   "metadata": {},
   "source": [
    "#### Implementing with numpy"
   ]
  },
  {
   "cell_type": "code",
   "execution_count": 25,
   "id": "5a5cbf58",
   "metadata": {},
   "outputs": [],
   "source": [
    "import numpy as np"
   ]
  },
  {
   "cell_type": "code",
   "execution_count": 26,
   "id": "2283aa2c",
   "metadata": {},
   "outputs": [],
   "source": [
    "def step_function(_node):\n",
    "    _out = _node>0\n",
    "    return int(_out)"
   ]
  },
  {
   "cell_type": "code",
   "execution_count": 27,
   "id": "6b0734de",
   "metadata": {},
   "outputs": [
    {
     "name": "stdout",
     "output_type": "stream",
     "text": [
      "1\n",
      "0\n"
     ]
    }
   ],
   "source": [
    "_node1 = 1\n",
    "print(step_function(_node1))\n",
    "\n",
    "_node2 = -1\n",
    "print(step_function(_node2))"
   ]
  },
  {
   "cell_type": "code",
   "execution_count": 30,
   "id": "fa817a74",
   "metadata": {},
   "outputs": [],
   "source": [
    "_nArry = np.array([-4,9,-10,1,13,-90]) "
   ]
  },
  {
   "cell_type": "code",
   "execution_count": 32,
   "id": "4089ca85",
   "metadata": {},
   "outputs": [
    {
     "data": {
      "text/plain": [
       "array([False,  True, False,  True,  True, False], dtype=bool)"
      ]
     },
     "execution_count": 32,
     "metadata": {},
     "output_type": "execute_result"
    }
   ],
   "source": [
    "_output = _nArry>0\n",
    "_output"
   ]
  },
  {
   "cell_type": "code",
   "execution_count": 36,
   "id": "7fefeb0c",
   "metadata": {},
   "outputs": [
    {
     "data": {
      "text/plain": [
       "array([0, 1, 0, 1, 1, 0])"
      ]
     },
     "execution_count": 36,
     "metadata": {},
     "output_type": "execute_result"
    }
   ],
   "source": [
    "_output.astype(np.int)"
   ]
  },
  {
   "cell_type": "code",
   "execution_count": 37,
   "id": "da93dda4",
   "metadata": {},
   "outputs": [],
   "source": [
    "def step_function(_node):\n",
    "    _out = _node>0\n",
    "    return _out.astype(int)"
   ]
  },
  {
   "cell_type": "code",
   "execution_count": 40,
   "id": "7d5d88c6",
   "metadata": {},
   "outputs": [
    {
     "name": "stdout",
     "output_type": "stream",
     "text": [
      "[False  True False  True  True False]\n"
     ]
    },
    {
     "data": {
      "text/plain": [
       "array([0, 1, 0, 1, 1, 0])"
      ]
     },
     "execution_count": 40,
     "metadata": {},
     "output_type": "execute_result"
    }
   ],
   "source": [
    "print(_output)\n",
    "step_function(_output)"
   ]
  },
  {
   "cell_type": "code",
   "execution_count": 41,
   "id": "06ee9ea6",
   "metadata": {},
   "outputs": [],
   "source": [
    "def step_function(_node):\n",
    "    return np.array(_node>0, dtype=int)"
   ]
  },
  {
   "cell_type": "code",
   "execution_count": 69,
   "id": "9cccde1a",
   "metadata": {},
   "outputs": [
    {
     "name": "stdout",
     "output_type": "stream",
     "text": [
      "[ -5.00000000e+00  -4.90000000e+00  -4.80000000e+00  -4.70000000e+00\n",
      "  -4.60000000e+00  -4.50000000e+00  -4.40000000e+00  -4.30000000e+00\n",
      "  -4.20000000e+00  -4.10000000e+00  -4.00000000e+00  -3.90000000e+00\n",
      "  -3.80000000e+00  -3.70000000e+00  -3.60000000e+00  -3.50000000e+00\n",
      "  -3.40000000e+00  -3.30000000e+00  -3.20000000e+00  -3.10000000e+00\n",
      "  -3.00000000e+00  -2.90000000e+00  -2.80000000e+00  -2.70000000e+00\n",
      "  -2.60000000e+00  -2.50000000e+00  -2.40000000e+00  -2.30000000e+00\n",
      "  -2.20000000e+00  -2.10000000e+00  -2.00000000e+00  -1.90000000e+00\n",
      "  -1.80000000e+00  -1.70000000e+00  -1.60000000e+00  -1.50000000e+00\n",
      "  -1.40000000e+00  -1.30000000e+00  -1.20000000e+00  -1.10000000e+00\n",
      "  -1.00000000e+00  -9.00000000e-01  -8.00000000e-01  -7.00000000e-01\n",
      "  -6.00000000e-01  -5.00000000e-01  -4.00000000e-01  -3.00000000e-01\n",
      "  -2.00000000e-01  -1.00000000e-01  -1.77635684e-14   1.00000000e-01\n",
      "   2.00000000e-01   3.00000000e-01   4.00000000e-01   5.00000000e-01\n",
      "   6.00000000e-01   7.00000000e-01   8.00000000e-01   9.00000000e-01\n",
      "   1.00000000e+00   1.10000000e+00   1.20000000e+00   1.30000000e+00\n",
      "   1.40000000e+00   1.50000000e+00   1.60000000e+00   1.70000000e+00\n",
      "   1.80000000e+00   1.90000000e+00   2.00000000e+00   2.10000000e+00\n",
      "   2.20000000e+00   2.30000000e+00   2.40000000e+00   2.50000000e+00\n",
      "   2.60000000e+00   2.70000000e+00   2.80000000e+00   2.90000000e+00\n",
      "   3.00000000e+00   3.10000000e+00   3.20000000e+00   3.30000000e+00\n",
      "   3.40000000e+00   3.50000000e+00   3.60000000e+00   3.70000000e+00\n",
      "   3.80000000e+00   3.90000000e+00   4.00000000e+00   4.10000000e+00\n",
      "   4.20000000e+00   4.30000000e+00   4.40000000e+00   4.50000000e+00\n",
      "   4.60000000e+00   4.70000000e+00   4.80000000e+00   4.90000000e+00]\n"
     ]
    }
   ],
   "source": [
    "_xAxis = np.arange(-5,5,0.1)\n",
    "print(_xAxis)"
   ]
  },
  {
   "cell_type": "code",
   "execution_count": 70,
   "id": "8b7bdf23",
   "metadata": {},
   "outputs": [
    {
     "name": "stdout",
     "output_type": "stream",
     "text": [
      "[0 0 0 0 0 0 0 0 0 0 0 0 0 0 0 0 0 0 0 0 0 0 0 0 0 0 0 0 0 0 0 0 0 0 0 0 0\n",
      " 0 0 0 0 0 0 0 0 0 0 0 0 0 0 1 1 1 1 1 1 1 1 1 1 1 1 1 1 1 1 1 1 1 1 1 1 1\n",
      " 1 1 1 1 1 1 1 1 1 1 1 1 1 1 1 1 1 1 1 1 1 1 1 1 1 1]\n"
     ]
    }
   ],
   "source": [
    "_yAxis = step_function(_xAxis)\n",
    "print(_yAxis)"
   ]
  },
  {
   "cell_type": "markdown",
   "id": "aa781279",
   "metadata": {},
   "source": [
    "#### Implementing with matplot for visualizing the scenarion's"
   ]
  },
  {
   "cell_type": "code",
   "execution_count": 71,
   "id": "12ad8a9e",
   "metadata": {},
   "outputs": [],
   "source": [
    "from matplotlib import pyplot as plot"
   ]
  },
  {
   "cell_type": "code",
   "execution_count": 72,
   "id": "256deb80",
   "metadata": {},
   "outputs": [
    {
     "data": {
      "text/plain": [
       "<Figure size 500x500 with 0 Axes>"
      ]
     },
     "execution_count": 72,
     "metadata": {},
     "output_type": "execute_result"
    },
    {
     "data": {
      "text/plain": [
       "<Figure size 500x500 with 0 Axes>"
      ]
     },
     "metadata": {},
     "output_type": "display_data"
    }
   ],
   "source": [
    "plot.figure(figsize=(5,5))"
   ]
  },
  {
   "cell_type": "markdown",
   "id": "ade6f1e7",
   "metadata": {},
   "source": [
    "**Ploting step function**"
   ]
  },
  {
   "cell_type": "code",
   "execution_count": 73,
   "id": "5105fb7d",
   "metadata": {},
   "outputs": [
    {
     "data": {
      "image/png": "[encoded data removed]",
      "text/plain": [
       "<Figure size 640x480 with 1 Axes>"
      ]
     },
     "metadata": {},
     "output_type": "display_data"
    }
   ],
   "source": [
    "plot.plot(_xAxis,_yAxis)\n",
    "plot.show()"
   ]
  },
  {
   "cell_type": "code",
   "execution_count": 52,
   "id": "d9869703",
   "metadata": {},
   "outputs": [],
   "source": [
    "def sigmoid(_node):\n",
    "    return 1/(1+np.exp(-_node))"
   ]
  },
  {
   "cell_type": "code",
   "execution_count": 56,
   "id": "185b92fc",
   "metadata": {},
   "outputs": [
    {
     "name": "stdout",
     "output_type": "stream",
     "text": [
      "0.993307149076\n",
      "0.00669285092428\n"
     ]
    }
   ],
   "source": [
    "_node1 = 5\n",
    "print(sigmoid(_node1))\n",
    "_node2 = -5\n",
    "print(sigmoid(_node2))"
   ]
  },
  {
   "cell_type": "code",
   "execution_count": 59,
   "id": "0ab33d6e",
   "metadata": {},
   "outputs": [],
   "source": [
    "#_nArry = np.array([-4,9,-10,1,13,-90]) \n",
    "_nArry = np.array([-4,9,-10,1,13,-90]) "
   ]
  },
  {
   "cell_type": "code",
   "execution_count": 60,
   "id": "c2a4dd88",
   "metadata": {},
   "outputs": [
    {
     "data": {
      "text/plain": [
       "array([  1.79862100e-02,   9.99876605e-01,   4.53978687e-05,\n",
       "         7.31058579e-01,   9.99997740e-01,   8.19401262e-40])"
      ]
     },
     "execution_count": 60,
     "metadata": {},
     "output_type": "execute_result"
    }
   ],
   "source": [
    "sigmoid(_nArry)"
   ]
  },
  {
   "cell_type": "code",
   "execution_count": 64,
   "id": "f131b311",
   "metadata": {},
   "outputs": [
    {
     "name": "stdout",
     "output_type": "stream",
     "text": [
      "[ -5.00000000e+00  -4.90000000e+00  -4.80000000e+00  -4.70000000e+00\n",
      "  -4.60000000e+00  -4.50000000e+00  -4.40000000e+00  -4.30000000e+00\n",
      "  -4.20000000e+00  -4.10000000e+00  -4.00000000e+00  -3.90000000e+00\n",
      "  -3.80000000e+00  -3.70000000e+00  -3.60000000e+00  -3.50000000e+00\n",
      "  -3.40000000e+00  -3.30000000e+00  -3.20000000e+00  -3.10000000e+00\n",
      "  -3.00000000e+00  -2.90000000e+00  -2.80000000e+00  -2.70000000e+00\n",
      "  -2.60000000e+00  -2.50000000e+00  -2.40000000e+00  -2.30000000e+00\n",
      "  -2.20000000e+00  -2.10000000e+00  -2.00000000e+00  -1.90000000e+00\n",
      "  -1.80000000e+00  -1.70000000e+00  -1.60000000e+00  -1.50000000e+00\n",
      "  -1.40000000e+00  -1.30000000e+00  -1.20000000e+00  -1.10000000e+00\n",
      "  -1.00000000e+00  -9.00000000e-01  -8.00000000e-01  -7.00000000e-01\n",
      "  -6.00000000e-01  -5.00000000e-01  -4.00000000e-01  -3.00000000e-01\n",
      "  -2.00000000e-01  -1.00000000e-01  -1.77635684e-14   1.00000000e-01\n",
      "   2.00000000e-01   3.00000000e-01   4.00000000e-01   5.00000000e-01\n",
      "   6.00000000e-01   7.00000000e-01   8.00000000e-01   9.00000000e-01\n",
      "   1.00000000e+00   1.10000000e+00   1.20000000e+00   1.30000000e+00\n",
      "   1.40000000e+00   1.50000000e+00   1.60000000e+00   1.70000000e+00\n",
      "   1.80000000e+00   1.90000000e+00   2.00000000e+00   2.10000000e+00\n",
      "   2.20000000e+00   2.30000000e+00   2.40000000e+00   2.50000000e+00\n",
      "   2.60000000e+00   2.70000000e+00   2.80000000e+00   2.90000000e+00\n",
      "   3.00000000e+00   3.10000000e+00   3.20000000e+00   3.30000000e+00\n",
      "   3.40000000e+00   3.50000000e+00   3.60000000e+00   3.70000000e+00\n",
      "   3.80000000e+00   3.90000000e+00   4.00000000e+00   4.10000000e+00\n",
      "   4.20000000e+00   4.30000000e+00   4.40000000e+00   4.50000000e+00\n",
      "   4.60000000e+00   4.70000000e+00   4.80000000e+00   4.90000000e+00]\n"
     ]
    }
   ],
   "source": [
    "_xAxis = np.arange(-5,5,0.1)\n",
    "print(_xAxis)"
   ]
  },
  {
   "cell_type": "code",
   "execution_count": 65,
   "id": "91f46049",
   "metadata": {},
   "outputs": [
    {
     "name": "stdout",
     "output_type": "stream",
     "text": [
      "[ 0.00669285  0.00739154  0.00816257  0.0090133   0.0099518   0.01098694\n",
      "  0.01212843  0.01338692  0.01477403  0.0163025   0.01798621  0.01984031\n",
      "  0.02188127  0.02412702  0.02659699  0.02931223  0.03229546  0.03557119\n",
      "  0.03916572  0.04310725  0.04742587  0.05215356  0.05732418  0.06297336\n",
      "  0.06913842  0.07585818  0.0831727   0.09112296  0.09975049  0.10909682\n",
      "  0.11920292  0.13010847  0.14185106  0.15446527  0.16798161  0.18242552\n",
      "  0.19781611  0.21416502  0.23147522  0.24973989  0.26894142  0.2890505\n",
      "  0.31002552  0.33181223  0.35434369  0.37754067  0.40131234  0.42555748\n",
      "  0.450166    0.47502081  0.5         0.52497919  0.549834    0.57444252\n",
      "  0.59868766  0.62245933  0.64565631  0.66818777  0.68997448  0.7109495\n",
      "  0.73105858  0.75026011  0.76852478  0.78583498  0.80218389  0.81757448\n",
      "  0.83201839  0.84553473  0.85814894  0.86989153  0.88079708  0.89090318\n",
      "  0.90024951  0.90887704  0.9168273   0.92414182  0.93086158  0.93702664\n",
      "  0.94267582  0.94784644  0.95257413  0.95689275  0.96083428  0.96442881\n",
      "  0.96770454  0.97068777  0.97340301  0.97587298  0.97811873  0.98015969\n",
      "  0.98201379  0.9836975   0.98522597  0.98661308  0.98787157  0.98901306\n",
      "  0.9900482   0.9909867   0.99183743  0.99260846]\n"
     ]
    }
   ],
   "source": [
    "_yAxis = sigmoid(_xAxis)\n",
    "print(_yAxis)"
   ]
  },
  {
   "cell_type": "markdown",
   "id": "69a81141",
   "metadata": {},
   "source": [
    "## plotting Sigmoid Function\n",
    "\n",
    "A log-sigmoid function, also known as a logistic function, is given by the relationship:\n",
    "\n",
    "> sigma(t) =((1)/(1+e^(-beta*t))))\n",
    "\n",
    "Where β is a slope parameter. This is called the log-sigmoid because a sigmoid can also be constructed using the hyperbolic tangent function instead of this relation, in which case it would be called a tan-sigmoid. Here, we will refer to the log-sigmoid as simply “sigmoid”. The sigmoid has the property of being similar to the step function, but with the addition of a region of uncertainty. Sigmoid functions in this respect are very similar to the input-output relationships of biological neurons, although not exactly the same. Below is the graph of a sigmoid function."
   ]
  },
  {
   "cell_type": "code",
   "execution_count": 67,
   "id": "23cff348",
   "metadata": {},
   "outputs": [
    {
     "data": {
      "image/png": "[encoded data removed]",
      "text/plain": [
       "<Figure size 500x500 with 1 Axes>"
      ]
     },
     "metadata": {},
     "output_type": "display_data"
    }
   ],
   "source": [
    "plot.figure(figsize=(5,5))\n",
    "plot.plot(_xAxis,_yAxis)\n",
    "plot.show()"
   ]
  },
  {
   "cell_type": "code",
   "execution_count": 79,
   "id": "3c51651b",
   "metadata": {},
   "outputs": [
    {
     "name": "stdout",
     "output_type": "stream",
     "text": [
      "[[ 3  4  5]\n",
      " [ 8  9 10]]\n"
     ]
    }
   ],
   "source": [
    "_matrix1 = np.array([[3,4,5],[8,9,10]])\n",
    "print(_matrix1)"
   ]
  },
  {
   "cell_type": "code",
   "execution_count": 80,
   "id": "20ef65ad",
   "metadata": {},
   "outputs": [],
   "source": [
    "_matrix2 = np.array([[10,20]])"
   ]
  },
  {
   "cell_type": "code",
   "execution_count": 84,
   "id": "5650bddc",
   "metadata": {},
   "outputs": [
    {
     "name": "stdout",
     "output_type": "stream",
     "text": [
      "matrix 1 (2, 3)\n",
      "matrix 2 (1, 2)\n"
     ]
    }
   ],
   "source": [
    "print(\"matrix 1\",np.shape(_matrix1))\n",
    "print(\"matrix 2\", np.shape(_matrix2))"
   ]
  },
  {
   "cell_type": "code",
   "execution_count": 88,
   "id": "b3b82db1",
   "metadata": {},
   "outputs": [
    {
     "name": "stdout",
     "output_type": "stream",
     "text": [
      "[[190 220 250]]\n"
     ]
    }
   ],
   "source": [
    "np.dot(_matrix2,_matrix1)\n",
    "print(np.dot(_matrix2,_matrix1))"
   ]
  },
  {
   "cell_type": "code",
   "execution_count": 89,
   "id": "8e60662b",
   "metadata": {},
   "outputs": [],
   "source": [
    "_nodes = np.array([1,1.5])\n",
    "_weights = np.array([[0.1,0.2,0.15],[0.4,0.2,0.8]])\n",
    "_bias = np.array([0.1,0.2,0.05])"
   ]
  },
  {
   "cell_type": "code",
   "execution_count": 91,
   "id": "3bfbd02f",
   "metadata": {},
   "outputs": [
    {
     "name": "stdout",
     "output_type": "stream",
     "text": [
      "[ 0.8  0.7  1.4]\n"
     ]
    }
   ],
   "source": [
    "_output = np.dot(_nodes,_weights)+_bias\n",
    "print(_output)"
   ]
  },
  {
   "cell_type": "code",
   "execution_count": 98,
   "id": "baead9fc",
   "metadata": {},
   "outputs": [
    {
     "name": "stdout",
     "output_type": "stream",
     "text": [
      "[ 0.68997448  0.66818777  0.80218389]\n"
     ]
    }
   ],
   "source": [
    "_sig = sigmoid(_output)\n",
    "print(_sig)"
   ]
  },
  {
   "cell_type": "code",
   "execution_count": 101,
   "id": "db417061",
   "metadata": {},
   "outputs": [
    {
     "name": "stdout",
     "output_type": "stream",
     "text": [
      "[ 0.87054572  1.18658034]\n"
     ]
    }
   ],
   "source": [
    "_weights1 = np.array([[0.1,0.2],[0.3,0.4],[0.5,0.6]])\n",
    "_bias1 = np.array([0.2,0.3])\n",
    "_output1 = np.dot(_sig,_weights1) +_bias1\n",
    "print(_output1)"
   ]
  },
  {
   "cell_type": "code",
   "execution_count": 103,
   "id": "0c7ab4ce",
   "metadata": {},
   "outputs": [
    {
     "name": "stdout",
     "output_type": "stream",
     "text": [
      "[ 0.70485924  0.7661289 ]\n"
     ]
    }
   ],
   "source": [
    "_sig1 = sigmoid(_output1)\n",
    "print(_sig1)"
   ]
  },
  {
   "cell_type": "code",
   "execution_count": 106,
   "id": "1ec7c159",
   "metadata": {},
   "outputs": [
    {
     "name": "stdout",
     "output_type": "stream",
     "text": [
      "[ 1.38291748  1.63001629]\n"
     ]
    }
   ],
   "source": [
    "_weights2 = np.array([[0.7,0.8],[0.9,1]])\n",
    "_bias2 = np.array([0.2,0.3])\n",
    "_output2 = np.dot(_sig1,_weights2) +_bias2\n",
    "print(_output2)"
   ]
  },
  {
   "cell_type": "code",
   "execution_count": 108,
   "id": "2e83a131",
   "metadata": {},
   "outputs": [
    {
     "name": "stdout",
     "output_type": "stream",
     "text": [
      "[ 0.79945915  0.83617187]\n"
     ]
    }
   ],
   "source": [
    "_sig2 = sigmoid(_output2)\n",
    "print(_sig2)"
   ]
  },
  {
   "cell_type": "markdown",
   "id": "50401eaa",
   "metadata": {},
   "source": [
    "**Feedforward**\n",
    "\n",
    "- The first part of creating a MLP is developing the feedforward algorithm. Feedforward is essentially the process used to turn the input into an output. However, it is not as simple as in the perceptron, but now needs to iterated over the various number of layers. Using matrix operations, this is done with relative ease in python:"
   ]
  },
  {
   "cell_type": "code",
   "execution_count": 109,
   "id": "51bba4a6",
   "metadata": {},
   "outputs": [],
   "source": [
    "class MultilayerPerceptron:\n",
    "    def __init__(self,_weight1,_bias1,_weight2,_bias2,_weight3,_bias3):\n",
    "        self.net={}\n",
    "        self.net['_weight1']=_weight1\n",
    "        self.net['_bias1']=_bias1\n",
    "        self.net['_weight2']=_weight2\n",
    "        self.net['_bias2']=_bias2\n",
    "        self.net['_weight3']=_weight3\n",
    "        self.net['_bias3']=_bias3\n",
    "    \n",
    "    def sigmoid(self, _node):\n",
    "        return 1/(1+np.exp(-_node))\n",
    "    \n",
    "    def forward(self, _node):\n",
    "        _weight1,_weight2,_weight3=self.net['_weight1'],self.net['_weight2'],self.net['_weight3']\n",
    "        _bias1,_bias2,_bias3=self.net['_bias1'],self.net['_bias2'],self.net['_bias3']\n",
    "        _node1=np.dot(_node,_weight1)+_bias1\n",
    "        _sig1=self.sigmoid(_node1)\n",
    "        _node2=np.dot(_sig1,_weight2)+_bias2\n",
    "        _sig2=self.sigmoid(_node2)\n",
    "        _node3=np.dot(_sig2,_weight3)+_bias3\n",
    "        _sig3=self.sigmoid(_node3)\n",
    "        return _sig3"
   ]
  },
  {
   "cell_type": "code",
   "execution_count": 116,
   "id": "d9822c73",
   "metadata": {},
   "outputs": [
    {
     "name": "stdout",
     "output_type": "stream",
     "text": [
      "[2 3] [ 0.65095855  0.70439219]\n"
     ]
    }
   ],
   "source": [
    "_weight1=np.array([[.1,.2,.3],[.4,.5,.6]])\n",
    "_bias1=np.array([.1,.2,.1])\n",
    "_weight2=np.array([[.1,.3],[.4,.6],[.2,.4]])\n",
    "_bias2=np.array([.1,.1])\n",
    "_weight3=np.array([[.2,.3],[.5,.6]])\n",
    "_bias3=np.array([.1,.2])\n",
    "mlp=MultilayerPerceptron(_weight1, _bias1, _weight2, _bias2, _weight3, _bias3)\n",
    "x=np.array([2,3])\n",
    "y=mlp.forward(x)\n",
    "print(x,y)"
   ]
  },
  {
   "cell_type": "code",
   "execution_count": 117,
   "id": "59a07796",
   "metadata": {},
   "outputs": [
    {
     "name": "stdout",
     "output_type": "stream",
     "text": [
      "[2 3] [ 0.82618913  0.85833169]\n"
     ]
    }
   ],
   "source": [
    "_weight1=np.random.rand(2,3)\n",
    "_bias1=np.random.rand(3,)\n",
    "_weight2=np.random.rand(3,2)\n",
    "_bias2=np.random.rand(2,)\n",
    "_weight3=np.random.rand(2,2)\n",
    "_bias3=np.random.rand(2,)\n",
    "mlp=MultilayerPerceptron(_weight1, _bias1, _weight2, _bias2, _weight3, _bias3)\n",
    "x=np.array([2,3])\n",
    "y=mlp.forward(x)\n",
    "print(x,y)"
   ]
  },
  {
   "cell_type": "code",
   "execution_count": null,
   "id": "4e2b82f6",
   "metadata": {},
   "outputs": [],
   "source": []
  }
 ],
 "metadata": {
  "kernelspec": {
   "display_name": "Python 3 (ipykernel)",
   "language": "python",
   "name": "python3"
  },
  "language_info": {
   "codemirror_mode": {
    "name": "ipython",
    "version": 3
   },
   "file_extension": ".py",
   "mimetype": "text/x-python",
   "name": "python",
   "nbconvert_exporter": "python",
   "pygments_lexer": "ipython3",
   "version": "3.7.13"
  }
 },
 "nbformat": 4,
 "nbformat_minor": 5
}
