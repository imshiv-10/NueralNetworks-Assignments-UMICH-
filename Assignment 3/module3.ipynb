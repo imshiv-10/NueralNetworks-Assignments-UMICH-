{
 "cells": [
  {
   "cell_type": "markdown",
   "id": "712031b1",
   "metadata": {},
   "source": [
    "# Neural Representation of AND, NAND, OR, XOR, NOT and XNOR Logic Gates under\n",
    ">## (Perceptron Algorithm)"
   ]
  },
  {
   "cell_type": "markdown",
   "id": "fa8be819",
   "metadata": {},
   "source": [
    "__the neural network updates the weights, but the logic behind how the values are being changed in simple terms.__"
   ]
  },
  {
   "cell_type": "markdown",
   "id": "7aa10157",
   "metadata": {},
   "source": [
    "__First, we need to know that the Perceptron algorithm states that:__\n",
    "Prediction (y) = 1 \n",
    "> if Wx+b > 0 and 0 if Wx+b ≤ 0"
   ]
  },
  {
   "cell_type": "markdown",
   "id": "7310c221",
   "metadata": {},
   "source": [
    "### the steps in this method are very similar to how Neural Networks learn, which is as follows;\n",
    "1. Initialize weight values and bias\n",
    "2. Forward Propagate\n",
    "3. Check the error\n",
    "4. Backpropagate and Adjust weights and bias\n",
    "5. Repeat for all training examples"
   ]
  },
  {
   "cell_type": "markdown",
   "id": "79cff280",
   "metadata": {},
   "source": [
    "Now that we know the steps, let’s get up and running:"
   ]
  },
  {
   "cell_type": "markdown",
   "id": "fa00ba60",
   "metadata": {},
   "source": [
    "## AND Gate\n",
    "\n",
    "- From our knowledge of logic gates, the output of an AND gate is 1 only if both inputs (in this case, x1 and x2) are 1.\n",
    "\n",
    "> From w1*x1+w2*x2+b, initializing w1, w2, as 1 and b as –1, we get;"
   ]
  },
  {
   "cell_type": "code",
   "execution_count": 27,
   "id": "34b87e70",
   "metadata": {},
   "outputs": [],
   "source": [
    "# LogicGate's Implementation through class definitions\n",
    "import numpy as np\n",
    "\n",
    "class LogicGate:\n",
    "    def __init__(self):\n",
    "        pass\n",
    "\n",
    "# AND Gate \n",
    "# The AND gate gives an output of 1 if both the two inputs are 1, it gives 0 otherwise.     \n",
    "    def do_and(x1,x2):\n",
    "        # w1, w2 are weights of the paths to reach the destination to y \n",
    "        # th ---> b threshold value \n",
    "        #w1, w2 , b  = 0.5, 0.5 , 0.8\n",
    "        _nodes = np.array([x1,x2])\n",
    "        _weights = np.array([1,1])\n",
    "        _bias = -1\n",
    "        # if y = 0, x1.w1 + x2.w2 < b\n",
    "        # if y = 1, x1.w1 + x2.w2 > b\n",
    "        #_eval = x1*w1 + x2*w2\n",
    "        _eval = np.sum([_nodes*_weights]) + _bias\n",
    "        return 1 if _eval>0 else 0   "
   ]
  },
  {
   "cell_type": "markdown",
   "id": "e949389f",
   "metadata": {},
   "source": [
    "__From w1*x1+w2*x2+b, initializing w1, w2, as 1 and b as –1, we get;\n",
    "x1(1)+x2(1)–1\n",
    "Passing the__\n",
    "1. step-1 the AND logic table (x1=0, x2=0), we get; 0+0–1 = –1 From the Perceptron rule, if Wx+b≤0, then y =0. Therefore, this row is correct, and no need for Backpropagation.\n",
    "2. step-2 Passing (x1=0 and x2=1), we get; 0+1–1 = 0 From the Perceptron rule, if Wx+b≤0, then y=0. This row is correct, as the output is 0 for the AND gate.From the Perceptron rule, this works (for both step 1, step 2 and step 3).\n",
    "3. Passing (x1=1 and x2=1), we get; 1+1–1 = 1 Again, from the perceptron rule, this is still valid. Therefore, we can conclude that the model to achieve an AND gate, using the Perceptron algorithm is"
   ]
  },
  {
   "cell_type": "code",
   "execution_count": 28,
   "id": "212a8b9c",
   "metadata": {},
   "outputs": [
    {
     "name": "stdout",
     "output_type": "stream",
     "text": [
      "+---------------+----------------+\n",
      " | AND Truth Table | Result |\n",
      " A = 0, B = 0 | A AND B = 0  | \n",
      " A = 0, B = 1 | A AND B = 0  | \n",
      " A = 1, B = 0 | A AND B = 0  | \n",
      " A = 1, B = 1 | A AND B = 1  | \n"
     ]
    }
   ],
   "source": [
    "Values  = [(0,0),(0,1),(1,0),(1,1)]\n",
    "print(\"+---------------+----------------+\")\n",
    "print(\" | AND Truth Table | Result |\")\n",
    "for i  in Values:\n",
    "    _result = LogicGate.do_and(i[0],i[1])\n",
    "    print(\" A = {}, B = {} | A AND B = {}\".format(i[0],i[1],_result),\" | \")   "
   ]
  },
  {
   "cell_type": "markdown",
   "id": "d77dbc6b",
   "metadata": {},
   "source": [
    "## NAND Gate\n",
    "\n",
    "__From our knowledge of logic gates, the output of an NAND gate is negation of AND Gate.__"
   ]
  },
  {
   "cell_type": "markdown",
   "id": "31b24b9d",
   "metadata": {},
   "source": [
    "1. \n",
    "From `w1x1+w2x2+b`, initializing w1 and w2 as 1, and b as -1, we get;\n",
    "x1(1)+x2(1)-1\n",
    "Passing the first row of the NAND logic table (x1=0, x2=0), we get;\n",
    "0+0-1 = -1\n",
    "From the Perceptron rule, if Wx+b≤0, then y=0. This row is incorrect, as the output is 1 for the NAND gate.\n",
    "So we want values that will make input x1=0 and x2 = 0 to give y` a value of 1. If we change b to 1, we have;\n",
    "0+0+1 = 1\n",
    "From the Perceptron rule, this works.\n",
    "\n",
    "2. Passing (x1=0, x2=1), we get;\n",
    "0+1+1 = 2\n",
    "From the Perceptron rule, if Wx+b > 0, then y=1. This row is also correct (for both step 2 and step 3).\n",
    "3. Passing (x1=1, x2=1), we get;\n",
    "1+1+1 = 3\n",
    "This is not the expected output, as the output is 0 for a NAND combination of x1=1 and x2=1.\n",
    "Changing values of w1 and w2 to -1, and value of b to 2, we get; -1-1+2 = 0 It works for all rows. Therefore, we can conclude that the model to achieve a NAND gate, using the Perceptron algorithm is;"
   ]
  },
  {
   "cell_type": "code",
   "execution_count": 45,
   "id": "3887dfee",
   "metadata": {},
   "outputs": [],
   "source": [
    "# AND Gate \n",
    "# The AND gate gives an output of 1 if both the two inputs are 1, it gives 0 otherwise. \n",
    "def do_nand(x1,x2):\n",
    "    return 0 if do_and(x1, x2) else 1\n",
    "def do_and(x1,x2):\n",
    "        # w1, w2 are weights of the paths to reach the destination to y \n",
    "        # th ---> b threshold value \n",
    "        #w1, w2 , b  = 0.5, 0.5 , 0.8\n",
    "    _nodes = np.array([x1,x2])\n",
    "    _weights = np.array([1,1])\n",
    "    _bias = -1\n",
    "        # if y = 0, x1.w1 + x2.w2 < b\n",
    "        # if y = 1, x1.w1 + x2.w2 > b\n",
    "        #_eval = x1*w1 + x2*w2\n",
    "    _eval = np.sum([_nodes*_weights]) + _bias\n",
    "    return 1 if _eval>0 else 0  "
   ]
  },
  {
   "cell_type": "code",
   "execution_count": 46,
   "id": "5e0d8514",
   "metadata": {},
   "outputs": [
    {
     "name": "stdout",
     "output_type": "stream",
     "text": [
      "+---------------+----------------+\n",
      " | NAND Truth Table | Result |\n",
      " A = 0, B = 0 | A NAND B = 1  | \n",
      " A = 0, B = 1 | A NAND B = 1  | \n",
      " A = 1, B = 0 | A NAND B = 1  | \n",
      " A = 1, B = 1 | A NAND B = 0  | \n"
     ]
    }
   ],
   "source": [
    "print(\"+---------------+----------------+\")\n",
    "print(\" | NAND Truth Table | Result |\")\n",
    "for i  in Values:\n",
    "    _result = do_nand(i[0],i[1])\n",
    "    print(\" A = {}, B = {} | A NAND B = {}\".format(i[0],i[1],_result),\" | \") "
   ]
  },
  {
   "cell_type": "markdown",
   "id": "2763fb37",
   "metadata": {},
   "source": [
    "## OR Gate\n",
    "\n",
    "**From our knowledge of logic gates, the output of an OR gate is 0 only if both inputs (in this case, x1 and x2) are 0**"
   ]
  },
  {
   "cell_type": "markdown",
   "id": "000d8e37",
   "metadata": {},
   "source": [
    "1. From `w1x1+w2x2+b`, initializing w1, w2, as 1 and b as –1, we get;\n",
    "x1(1)+x2(1)–1\n",
    "Passing the first row of the OR logic table (x1=0, x2=0), we get;\n",
    "0+0–1 = –1\n",
    "From the Perceptron rule, if Wx+b≤0, then y`=0. Therefore, this row is correct.\n",
    "2. Passing (x1=0 and x2=1), we get;\n",
    "0+1–1 = 0\n",
    "From the Perceptron rule, if Wx+b <= 0, then y=0. Therefore, this row is incorrect.\n",
    "So we want values that will make inputs x1=0 and x2=1 give y` a value of 1. If we change w2 to 2, we have;\n",
    "0+2–1 = 1\n",
    "From the Perceptron rule, this is correct for both the row 1 and 2.\n",
    "3. Passing (x1=1 and x2=0), we get;\n",
    "1+0–1 = 0\n",
    "From the Perceptron rule, if Wx+b <= 0, then y=0. Therefore, this row is incorrect.\n",
    "Since it is similar to that of row 2, we can just change w1 to 2, we have;\n",
    "2+0–1 = 1\n",
    "From the Perceptron rule, this is correct for both the row 1, 2 and 3.\n",
    "4. Passing (x1=1 and x2=1), we get;\n",
    "2+2–1 = 3\n",
    "Again, from the perceptron rule, this is still valid. Quite Easy!\n",
    "Therefore, we can conclude that the model to achieve an OR gate, using the Perceptron algorithm"
   ]
  },
  {
   "cell_type": "code",
   "execution_count": 51,
   "id": "a34c15a4",
   "metadata": {},
   "outputs": [],
   "source": [
    "def do_or(x1,x2):\n",
    "        # w1, w2 are weights of the paths to reach the destination to y \n",
    "        # th ---> b threshold value \n",
    "        #w1, w2 , b  = 0.5, 0.5 , 0.8\n",
    "    _nodes = np.array([x1,x2])\n",
    "    _weights = np.array([1,1])\n",
    "    _bias = -1\n",
    "        # if y = 0, x1.w1 + x2.w2 < b\n",
    "        # if y = 1, x1.w1 + x2.w2 > b\n",
    "        #_eval = x1*w1 + x2*w2\n",
    "    _eval = np.sum([_nodes*_weights]) + _bias\n",
    "    return 0 if _eval>0 else 1"
   ]
  },
  {
   "cell_type": "code",
   "execution_count": 52,
   "id": "7bb0e6fb",
   "metadata": {},
   "outputs": [
    {
     "name": "stdout",
     "output_type": "stream",
     "text": [
      "+---------------+----------------+\n",
      " | OR Truth Table | Result |\n",
      " A = 0, B = 0 | A OR B = 1  | \n",
      " A = 0, B = 1 | A OR B = 1  | \n",
      " A = 1, B = 0 | A OR B = 1  | \n",
      " A = 1, B = 1 | A OR B = 0  | \n"
     ]
    }
   ],
   "source": [
    "print(\"+---------------+----------------+\")\n",
    "print(\" | OR Truth Table | Result |\")\n",
    "for i  in Values:\n",
    "    _result = do_or(i[0],i[1])\n",
    "    print(\" A = {}, B = {} | A OR B = {}\".format(i[0],i[1],_result),\" | \")  "
   ]
  },
  {
   "cell_type": "markdown",
   "id": "5c6e6fb9",
   "metadata": {},
   "source": [
    "## Do Not\n",
    "1. From w1x1+b, initializing w1 as 1 (since single input), and b as –1, we get;\n",
    "x1(1)–1\n",
    "Passing the first row of the NOT logic table (x1=0), we get;\n",
    "0–1 = –1\n",
    "From the Perceptron rule, if Wx+b≤0, then y=0. This row is incorrect, as the output is 1 for the NOT gate.\n",
    "So we want values that will make input x1=0 to give y a value of 1. If we change b to 1, we have;\n",
    "0+1 = 1\n",
    "From the Perceptron rule, this works.\n",
    "\n",
    "2. Passing (x1=1), we get;\n",
    "1+1 = 2\n",
    "From the Perceptron rule, if Wx+b > 0, then y=1. This row is so incorrect, as the output is 0 for the NOT gate.\n",
    "So we want values that will make input x1=1 to give y a value of 0. If we change w1 to –1, we have;\n",
    "–1+1 = 0\n",
    "From the Perceptron rule, if Wx+b ≤ 0, then y=0. Therefore, this works (for both row 1 and row 2).\n",
    "Therefore, we can conclude that the model to achieve a NOT gate, using the Perceptron algorithm is"
   ]
  },
  {
   "cell_type": "code",
   "execution_count": 55,
   "id": "0726fa41",
   "metadata": {},
   "outputs": [],
   "source": [
    "def do_not(x):\n",
    "        # w are weights of the paths to reach the destination to y \n",
    "        # th ---> b threshold value \n",
    "        #w, b  = 1 , 0.8\n",
    "        # if y = 0, x.w < b\n",
    "        # if y = 1, x.w > b\n",
    "        #_eval = x*w\n",
    "    _nodes = np.array(x)\n",
    "    _weights = np.array(1)\n",
    "    _bias = -1\n",
    "    _eval = np.array(_nodes* _weights) + _bias\n",
    "    return 1 if _eval else 0"
   ]
  },
  {
   "cell_type": "code",
   "execution_count": 56,
   "id": "06c5238e",
   "metadata": {},
   "outputs": [
    {
     "name": "stdout",
     "output_type": "stream",
     "text": [
      "+---------------+----------------+\n",
      " | NOT Truth Table | Result |\n",
      " A = 0 |        |       A NOT = 1\n",
      " A = 1 |        |       A NOT = 0\n"
     ]
    }
   ],
   "source": [
    "sigValues= [0,1]\n",
    "print(\"+---------------+----------------+\")\n",
    "print(\" | NOT Truth Table | Result |\")\n",
    "for i  in range(len(sigValues)):\n",
    "    _result = do_not(sigValues[i])\n",
    "    print(\" A = {} |        |       A NOT = {}\".format(sigValues[i],_result))   "
   ]
  },
  {
   "cell_type": "code",
   "execution_count": 76,
   "id": "516fbae6",
   "metadata": {},
   "outputs": [],
   "source": [
    "def do_nor(x1,x2):\n",
    "    return 0 if do_or(x1, x2) else 1                  \n",
    "#OR Gate \n",
    "#The OR gate gives an output of 1 if either of the two inputs is 1, it gives 0 otherwise\n",
    "def do_or(x1,x2):\n",
    "        # w1, w2 are weights of the paths to reach the destination to y \n",
    "        # th ---> b threshold value \n",
    "        #w1, w2 , b  = 0.5, 0.5 , 0.8\n",
    "    _nodes = np.array([x1,x2])\n",
    "    _weights = np.array([1,1])\n",
    "    _bias = -1\n",
    "        # if y = 0, x1.w1 + x2.w2 < b\n",
    "        # if y = 1, x1.w1 + x2.w2 > b\n",
    "        #_eval = x1*w1 + x2*w2\n",
    "    _eval = np.sum([_nodes*_weights]) + _bias\n",
    "    return 0 if _eval>0 else 1"
   ]
  },
  {
   "cell_type": "code",
   "execution_count": 77,
   "id": "d9dc8a31",
   "metadata": {},
   "outputs": [
    {
     "name": "stdout",
     "output_type": "stream",
     "text": [
      "+---------------+----------------+\n",
      " | XNOR Truth Table | Result |\n",
      " A = 0, B = 0 | A NOR B = 0  | \n",
      " A = 0, B = 1 | A NOR B = 0  | \n",
      " A = 1, B = 0 | A NOR B = 0  | \n",
      " A = 1, B = 1 | A NOR B = 1  | \n"
     ]
    }
   ],
   "source": [
    "print(\"+---------------+----------------+\")\n",
    "print(\" | XNOR Truth Table | Result |\")\n",
    "for i  in Values:\n",
    "    _result = do_nor(i[0],i[1])\n",
    "    print(\" A = {}, B = {} | A NOR B = {}\".format(i[0],i[1],_result),\" | \") "
   ]
  },
  {
   "cell_type": "markdown",
   "id": "0ba64c2d",
   "metadata": {},
   "source": [
    "## XOR "
   ]
  },
  {
   "cell_type": "code",
   "execution_count": 80,
   "id": "444a5e0f",
   "metadata": {},
   "outputs": [],
   "source": [
    "def do_xor(x1,x2):\n",
    "        # w1, w2 are weights of the paths to reach the destination to y \n",
    "        # th ---> b threshold value \n",
    "        #w1, w2 , b  = 0.5, 0.5 , 0.2\n",
    "        # if y = ~(0), x1.w1 + x2.w2 < b\n",
    "        # if y = ~(1), x1.w1 + x2.w2 > b\n",
    "    y1 = do_or(x1, x2)               \n",
    "    y2 = do_nand(x1,x2)\n",
    "    y =  do_and(y1, y2)\n",
    "    return y    \n",
    "def do_or(x1,x2):\n",
    "        # w1, w2 are weights of the paths to reach the destination to y \n",
    "        # th ---> b threshold value \n",
    "        #w1, w2 , b  = 0.5, 0.5 , 0.8\n",
    "    _nodes = np.array([x1,x2])\n",
    "    _weights = np.array([1,1])\n",
    "    _bias = -1\n",
    "        # if y = 0, x1.w1 + x2.w2 < b\n",
    "        # if y = 1, x1.w1 + x2.w2 > b\n",
    "        #_eval = x1*w1 + x2*w2\n",
    "    _eval = np.sum([_nodes*_weights]) + _bias\n",
    "    return 0 if _eval>0 else 1\n",
    "def do_nand(x1,x2):\n",
    "    return 0 if do_and(x1, x2) else 1\n",
    "def do_and(x1,x2):\n",
    "        # w1, w2 are weights of the paths to reach the destination to y \n",
    "        # th ---> b threshold value \n",
    "        #w1, w2 , b  = 0.5, 0.5 , 0.8\n",
    "    _nodes = np.array([x1,x2])\n",
    "    _weights = np.array([1,1])\n",
    "    _bias = -1\n",
    "        # if y = 0, x1.w1 + x2.w2 < b\n",
    "        # if y = 1, x1.w1 + x2.w2 > b\n",
    "        #_eval = x1*w1 + x2*w2\n",
    "    _eval = np.sum([_nodes*_weights]) + _bias\n",
    "    return 1 if _eval>0 else 0  "
   ]
  },
  {
   "cell_type": "code",
   "execution_count": 85,
   "id": "40c5428c",
   "metadata": {},
   "outputs": [
    {
     "name": "stdout",
     "output_type": "stream",
     "text": [
      "+---------------+----------------+\n",
      " | XOR Truth Table | Result |\n",
      " A = 0, B = 0 | A XOR B = 1  | \n",
      " A = 0, B = 1 | A XOR B = 1  | \n",
      " A = 1, B = 0 | A XOR B = 1  | \n",
      " A = 1, B = 1 | A XOR B = 0  | \n"
     ]
    }
   ],
   "source": [
    "print(\"+---------------+----------------+\")\n",
    "print(\" | XOR Truth Table | Result |\")\n",
    "for i  in Values:\n",
    "    _result = do_xor(i[0],i[1])\n",
    "    print(\" A = {}, B = {} | A XOR B = {}\".format(i[0],i[1],_result),\" | \")    \n"
   ]
  },
  {
   "cell_type": "code",
   "execution_count": null,
   "id": "4155394e",
   "metadata": {},
   "outputs": [],
   "source": []
  }
 ],
 "metadata": {
  "kernelspec": {
   "display_name": "Python 3 (ipykernel)",
   "language": "python",
   "name": "python3"
  },
  "language_info": {
   "codemirror_mode": {
    "name": "ipython",
    "version": 3
   },
   "file_extension": ".py",
   "mimetype": "text/x-python",
   "name": "python",
   "nbconvert_exporter": "python",
   "pygments_lexer": "ipython3",
   "version": "3.7.13"
  }
 },
 "nbformat": 4,
 "nbformat_minor": 5
}
