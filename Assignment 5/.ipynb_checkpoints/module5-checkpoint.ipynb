{
 "cells": [
  {
   "cell_type": "code",
   "execution_count": 3,
   "id": "f593a601",
   "metadata": {},
   "outputs": [],
   "source": [
    "import urllib.request"
   ]
  },
  {
   "cell_type": "code",
   "execution_count": 4,
   "id": "e7413b76",
   "metadata": {},
   "outputs": [],
   "source": [
    "url_base = 'http://yann.lecun.com/exdb/mnist/'\n",
    "key_file = {\n",
    "    'train_img' : 'train-images-idx3-ubyte.gz',\n",
    "    'train_label' : 'train-labels-idx1-ubyte.gz',\n",
    "    'test_img' : 't10k-images-idx3-ubyte.gz',\n",
    "    'test_label' : 't10k-labels-idx1-ubyte.gz'\n",
    "}\n",
    "pickle_filename = 'mnist.pkl'"
   ]
  },
  {
   "cell_type": "code",
   "execution_count": 7,
   "id": "2e2f67aa",
   "metadata": {},
   "outputs": [
    {
     "data": {
      "text/plain": [
       "('test.gz', <http.client.HTTPMessage at 0x1079ca820>)"
      ]
     },
     "execution_count": 7,
     "metadata": {},
     "output_type": "execute_result"
    }
   ],
   "source": [
    "urllib.request.urlretrieve('http://yann.lecun.com/exdb/mnist/','test.gz')"
   ]
  },
  {
   "cell_type": "code",
   "execution_count": null,
   "id": "f78dddc7",
   "metadata": {},
   "outputs": [
    {
     "name": "stdout",
     "output_type": "stream",
     "text": [
      " downloading train-images-idx3-ubyte.gz.....\n",
      "Done....\n",
      " downloading train-labels-idx1-ubyte.gz.....\n",
      "Done....\n",
      " downloading t10k-images-idx3-ubyte.gz.....\n"
     ]
    }
   ],
   "source": [
    "for value in key_file.values():\n",
    "    print(' downloading {}.....'.format(value))\n",
    "    urllib.request.urlretrieve(url_base + value, value)\n",
    "    print('Done....')"
   ]
  },
  {
   "cell_type": "code",
   "execution_count": 9,
   "id": "b429fe37",
   "metadata": {},
   "outputs": [
    {
     "name": "stdout",
     "output_type": "stream",
     "text": [
      "--2022-10-19 13:32:32--  http://yann.lecun.com/exdb/mnist/train-images-idx3-ubyte.gz\n",
      "Resolving yann.lecun.com (yann.lecun.com)... 104.21.29.36, 172.67.171.76\n",
      "Connecting to yann.lecun.com (yann.lecun.com)|104.21.29.36|:80... connected.\n",
      "HTTP request sent, awaiting response... 200 OK\n",
      "Length: 9912422 (9.5M) [application/x-gzip]\n",
      "Saving to: ‘train-images-idx3-ubyte.gz.1’\n",
      "\n",
      "train-images-idx3-u 100%[===================>]   9.45M  11.5MB/s    in 0.8s    \n",
      "\n",
      "2022-10-19 13:32:33 (11.5 MB/s) - ‘train-images-idx3-ubyte.gz.1’ saved [9912422/9912422]\n",
      "\n"
     ]
    }
   ],
   "source": [
    "!wget http://yann.lecun.com/exdb/mnist/train-images-idx3-ubyte.gz"
   ]
  },
  {
   "cell_type": "code",
   "execution_count": null,
   "id": "33c7047b",
   "metadata": {},
   "outputs": [],
   "source": []
  }
 ],
 "metadata": {
  "kernelspec": {
   "display_name": "Python 3 (ipykernel)",
   "language": "python",
   "name": "python3"
  },
  "language_info": {
   "codemirror_mode": {
    "name": "ipython",
    "version": 3
   },
   "file_extension": ".py",
   "mimetype": "text/x-python",
   "name": "python",
   "nbconvert_exporter": "python",
   "pygments_lexer": "ipython3",
   "version": "3.8.13"
  }
 },
 "nbformat": 4,
 "nbformat_minor": 5
}
